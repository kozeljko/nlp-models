{
  "nbformat": 4,
  "nbformat_minor": 0,
  "metadata": {
    "colab": {
      "name": "gab_and_reddit_glove300_sigmoid.ipynb",
      "provenance": [],
      "collapsed_sections": [],
      "toc_visible": true,
      "authorship_tag": "ABX9TyPDOFJdGM9uL/raimqoghmP",
      "include_colab_link": true
    },
    "kernelspec": {
      "name": "python3",
      "display_name": "Python 3"
    },
    "language_info": {
      "name": "python"
    },
    "accelerator": "GPU"
  },
  "cells": [
    {
      "cell_type": "markdown",
      "metadata": {
        "id": "view-in-github",
        "colab_type": "text"
      },
      "source": [
        "<a href=\"https://colab.research.google.com/github/kozeljko/nlp-models/blob/master/gab_and_reddit_glove300_sigmoid.ipynb\" target=\"_parent\"><img src=\"https://colab.research.google.com/assets/colab-badge.svg\" alt=\"Open In Colab\"/></a>"
      ]
    },
    {
      "cell_type": "markdown",
      "metadata": {
        "id": "4_kErZpcJrjS"
      },
      "source": [
        "Init environment"
      ]
    },
    {
      "cell_type": "code",
      "metadata": {
        "id": "ORjKO2M5mPIR"
      },
      "source": [
        "from __future__ import absolute_import, division, print_function, unicode_literals\n",
        "\n",
        "try:\n",
        "  %tensorflow_version 2.x\n",
        "except Exception:\n",
        "  pass"
      ],
      "execution_count": 5,
      "outputs": []
    },
    {
      "cell_type": "code",
      "metadata": {
        "colab": {
          "base_uri": "https://localhost:8080/"
        },
        "id": "d2XwduGIJj5J",
        "outputId": "c0e7d162-0006-4b51-b0c3-06bb362fc6c5"
      },
      "source": [
        "from google.colab import drive\n",
        "drive.mount('/content/drive')"
      ],
      "execution_count": 4,
      "outputs": [
        {
          "output_type": "stream",
          "text": [
            "Mounted at /content/drive\n"
          ],
          "name": "stdout"
        }
      ]
    },
    {
      "cell_type": "code",
      "metadata": {
        "colab": {
          "base_uri": "https://localhost:8080/"
        },
        "id": "PuDSSVNhbgN1",
        "outputId": "57d9ff2a-1d2d-49b1-94a1-c103093f6ada"
      },
      "source": [
        "%tensorflow_version 2.x\n",
        "import tensorflow as tf\n",
        "device_name = tf.test.gpu_device_name()\n",
        "if device_name != '/device:GPU:0':\n",
        "  raise SystemError('GPU device not found')\n",
        "print('Found GPU at: {}'.format(device_name))"
      ],
      "execution_count": 6,
      "outputs": [
        {
          "output_type": "stream",
          "text": [
            "Found GPU at: /device:GPU:0\n"
          ],
          "name": "stdout"
        }
      ]
    },
    {
      "cell_type": "code",
      "metadata": {
        "id": "LQHEJLoILmgY"
      },
      "source": [
        "# How I got Glove6B embeddings\n",
        "#!wget http://nlp.stanford.edu/data/glove.6B.zip\n",
        "#!ls\n",
        "#!unzip glove.6B.zip\n",
        "#!mkdir drive/MyDrive/nlp/models-pre/glove6B\n",
        "#!mv *d.txt drive/MyDrive/nlp/models-pre/glove6B"
      ],
      "execution_count": 4,
      "outputs": []
    },
    {
      "cell_type": "code",
      "metadata": {
        "colab": {
          "base_uri": "https://localhost:8080/"
        },
        "id": "2TiRSyRsJnqw",
        "outputId": "fd7b69cb-e335-435e-cf6f-c5d2280e5122"
      },
      "source": [
        "!pip install lemmagen3 emoji\n",
        "!pip install --upgrade keras\n",
        "!pip install tensorflow-addons\n",
        "\n",
        "import sys\n",
        "sys.path.append('drive/MyDrive/nlp/nlp-offensive-language/src')\n",
        "\n",
        "\n",
        "from preprocessing import preprocess\n",
        "\n"
      ],
      "execution_count": 38,
      "outputs": [
        {
          "output_type": "stream",
          "text": [
            "Requirement already satisfied: lemmagen3 in /usr/local/lib/python3.7/dist-packages (3.3.1)\n",
            "Requirement already satisfied: emoji in /usr/local/lib/python3.7/dist-packages (1.2.0)\n",
            "Requirement already satisfied: pybind11>=2.4 in /usr/local/lib/python3.7/dist-packages (from lemmagen3) (2.6.2)\n",
            "Requirement already up-to-date: keras in /usr/local/lib/python3.7/dist-packages (2.4.3)\n",
            "Requirement already satisfied, skipping upgrade: scipy>=0.14 in /usr/local/lib/python3.7/dist-packages (from keras) (1.4.1)\n",
            "Requirement already satisfied, skipping upgrade: numpy>=1.9.1 in /usr/local/lib/python3.7/dist-packages (from keras) (1.19.5)\n",
            "Requirement already satisfied, skipping upgrade: h5py in /usr/local/lib/python3.7/dist-packages (from keras) (2.10.0)\n",
            "Requirement already satisfied, skipping upgrade: pyyaml in /usr/local/lib/python3.7/dist-packages (from keras) (3.13)\n",
            "Requirement already satisfied, skipping upgrade: six in /usr/local/lib/python3.7/dist-packages (from h5py->keras) (1.15.0)\n",
            "Collecting tensorflow-addons\n",
            "\u001b[?25l  Downloading https://files.pythonhosted.org/packages/74/e3/56d2fe76f0bb7c88ed9b2a6a557e25e83e252aec08f13de34369cd850a0b/tensorflow_addons-0.12.1-cp37-cp37m-manylinux2010_x86_64.whl (703kB)\n",
            "\u001b[K     |████████████████████████████████| 706kB 8.2MB/s \n",
            "\u001b[?25hRequirement already satisfied: typeguard>=2.7 in /usr/local/lib/python3.7/dist-packages (from tensorflow-addons) (2.7.1)\n",
            "Installing collected packages: tensorflow-addons\n",
            "Successfully installed tensorflow-addons-0.12.1\n"
          ],
          "name": "stdout"
        }
      ]
    },
    {
      "cell_type": "code",
      "metadata": {
        "id": "syFNIdyDQFjC"
      },
      "source": [
        "DATASETS_DIR = \"drive/MyDrive/nlp/nlp-offensive-language/datasets/\"\n",
        "\n",
        "GLOVE_DIR = \"drive/MyDrive/nlp/models-pre/glove6B/\""
      ],
      "execution_count": 9,
      "outputs": []
    },
    {
      "cell_type": "code",
      "metadata": {
        "colab": {
          "base_uri": "https://localhost:8080/"
        },
        "id": "xvmLp47rQPB1",
        "outputId": "c2fbabdf-1b48-452d-be12-4b184b4ba42b"
      },
      "source": [
        "import os, csv\n",
        "import numpy as np\n",
        "import pandas as pd\n",
        "from preprocessing import *\n",
        "\n",
        "#filename = \"english/embeddia/dataset.csv\"\n",
        "filename = \"english/gab_and_reddit/dataset.csv\"\n",
        "csv_read = csv.reader(open(os.path.join(DATASETS_DIR, filename), encoding=\"utf8\"), delimiter=\",\")\n",
        "\n",
        "texts = []\n",
        "labels = []\n",
        "for line in csv_read:\n",
        "  if line[0] == \"id\":\n",
        "    continue\n",
        "\n",
        "  text = line[1]\n",
        "  text = preprocess(text, [PP_LOWERCASE, PP_REMOVE_USERNAME_HANDLES, PP_REMOVE_URLS, PP_REMOVE_SPECIAL_CHARACTERS, PP_REMOVE_BASE_PUNCTUATIONS, PP_REMOVE_NUMBERS])\n",
        "  text = \" \".join(text)\n",
        "\n",
        "  texts.append(text)\n",
        "  if line[2] == \"OFF\":\n",
        "    labels.append([1])\n",
        "  else:\n",
        "    labels.append([0])\n",
        "\n",
        "print(\"Loaded dataset\")\n",
        "print(str(len(texts)) + \" texts\")\n",
        "print(\"First: \" + texts[0])\n",
        "print(labels[0])"
      ],
      "execution_count": 81,
      "outputs": [
        {
          "output_type": "stream",
          "text": [
            "Loaded dataset\n",
            "56085 texts\n",
            "First: i joined gab to remind myself how retarded jew haters are you would not be typing on your abacus without them you retard\n",
            "[1]\n"
          ],
          "name": "stdout"
        }
      ]
    },
    {
      "cell_type": "code",
      "metadata": {
        "colab": {
          "base_uri": "https://localhost:8080/"
        },
        "id": "e97MOQT9N6YS",
        "outputId": "c98237ba-b482-46ad-9de1-0aece7db2a80"
      },
      "source": [
        "import os\n",
        "import numpy as np\n",
        "from keras.layers import Embedding\n",
        "from keras.preprocessing.text import Tokenizer\n",
        "from keras.preprocessing.sequence import pad_sequences\n",
        "\n",
        "# Prepare tokenizer given loaded texts\n",
        "tokenizer = Tokenizer()\n",
        "tokenizer.fit_on_texts(texts)\n",
        "seq = tokenizer.texts_to_sequences(texts)\n",
        "\n",
        "vocab_size = len(tokenizer.word_index)+1\n",
        "\n",
        "# Load Glove model\n",
        "EMBEDDING_DIM = 300\n",
        "MAX_SEQUENCE_LENGTH = 100\n",
        "pad_seq = pad_sequences(seq,maxlen=MAX_SEQUENCE_LENGTH)\n",
        "embeddings_index = {}\n",
        "f = open(os.path.join(GLOVE_DIR, 'glove.6B.300d.txt'))\n",
        "for line in f:\n",
        "    values = line.split()\n",
        "    word = values[0]\n",
        "    coefs = np.asarray(values[1:], dtype='float32')\n",
        "    embeddings_index[word] = coefs\n",
        "f.close()\n",
        "\n",
        "print('Found %s word vectors.' % len(embeddings_index))\n",
        "\n",
        "# Create embedding matrix\n",
        "\n",
        "word_index = tokenizer.word_index\n",
        "embedding_matrix = np.zeros((len(word_index) + 1, EMBEDDING_DIM))\n",
        "for word, i in word_index.items():\n",
        "    embedding_vector = embeddings_index.get(word)\n",
        "    if embedding_vector is not None:\n",
        "        # words not found in embedding index will be all-zeros.\n",
        "        embedding_matrix[i] = embedding_vector\n",
        "\n",
        "# Create embedding layer\n",
        "\n",
        "embedding_layer = Embedding(len(word_index) + 1,\n",
        "                            EMBEDDING_DIM,\n",
        "                            weights=[embedding_matrix],\n",
        "                            input_length=MAX_SEQUENCE_LENGTH,\n",
        "                            trainable=False)\n",
        "\n",
        "# Created embedding layer"
      ],
      "execution_count": 82,
      "outputs": [
        {
          "output_type": "stream",
          "text": [
            "Found 400000 word vectors.\n"
          ],
          "name": "stdout"
        }
      ]
    },
    {
      "cell_type": "markdown",
      "metadata": {
        "id": "48XboxqdsGvI"
      },
      "source": [
        "Train model"
      ]
    },
    {
      "cell_type": "code",
      "metadata": {
        "colab": {
          "base_uri": "https://localhost:8080/"
        },
        "id": "eTJc27RdW-1T",
        "outputId": "322517cd-e261-4c1c-b49b-38ac8b4b2ba1"
      },
      "source": [
        "from keras.models import Sequential\n",
        "from keras.layers import LSTM,Dense,Dropout,Embedding,Bidirectional\n",
        "from keras.metrics import Precision, Recall\n",
        "from tensorflow_addons.metrics import F1Score\n",
        "\n",
        "\n",
        "train_index = int(len(pad_seq) * 0.8)\n",
        "\n",
        "train_seq = np.array(pad_seq[:train_index])\n",
        "train_labels = np.array(labels[:train_index])\n",
        "\n",
        "test_seq = np.array(pad_seq[train_index:])\n",
        "test_labels = np.array(labels[train_index:])\n",
        "\n",
        "model = Sequential()\n",
        "model.add(embedding_layer)\n",
        "model.add(Dense(128,activation = 'relu'))\n",
        "model.add(LSTM(128))\n",
        "model.add(Dense(64,activation = 'relu'))\n",
        "model.add(Dense(16,activation = 'relu'))\n",
        "model.add(Dropout(0.5))\n",
        "model.add(Dense(1,activation = 'sigmoid'))\n",
        "model.compile(optimizer='adam',loss='binary_crossentropy',metrics = [F1Score(num_classes=1, threshold=0.5), 'accuracy'])\n",
        "\n",
        "model.fit(train_seq, train_labels, epochs=10, validation_split=0.1, batch_size=128)"
      ],
      "execution_count": 83,
      "outputs": [
        {
          "output_type": "stream",
          "text": [
            "Epoch 1/10\n",
            "316/316 [==============================] - 7s 16ms/step - loss: 0.4813 - f1_score: 0.7279 - accuracy: 0.7943 - val_loss: 0.4006 - val_f1_score: 0.7570 - val_accuracy: 0.8776\n",
            "Epoch 2/10\n",
            "316/316 [==============================] - 5s 15ms/step - loss: 0.3227 - f1_score: 0.8672 - accuracy: 0.8949 - val_loss: 0.3480 - val_f1_score: 0.7712 - val_accuracy: 0.8888\n",
            "Epoch 3/10\n",
            "316/316 [==============================] - 5s 14ms/step - loss: 0.3044 - f1_score: 0.8753 - accuracy: 0.9014 - val_loss: 0.3392 - val_f1_score: 0.7600 - val_accuracy: 0.8877\n",
            "Epoch 4/10\n",
            "316/316 [==============================] - 5s 14ms/step - loss: 0.2986 - f1_score: 0.8729 - accuracy: 0.8996 - val_loss: 0.3424 - val_f1_score: 0.7743 - val_accuracy: 0.8888\n",
            "Epoch 5/10\n",
            "316/316 [==============================] - 5s 15ms/step - loss: 0.2922 - f1_score: 0.8743 - accuracy: 0.9017 - val_loss: 0.3397 - val_f1_score: 0.7794 - val_accuracy: 0.8939\n",
            "Epoch 6/10\n",
            "316/316 [==============================] - 5s 15ms/step - loss: 0.2789 - f1_score: 0.8776 - accuracy: 0.9025 - val_loss: 0.3466 - val_f1_score: 0.7765 - val_accuracy: 0.8888\n",
            "Epoch 7/10\n",
            "316/316 [==============================] - 5s 15ms/step - loss: 0.2686 - f1_score: 0.8801 - accuracy: 0.9050 - val_loss: 0.3455 - val_f1_score: 0.7776 - val_accuracy: 0.8910\n",
            "Epoch 8/10\n",
            "316/316 [==============================] - 5s 15ms/step - loss: 0.2609 - f1_score: 0.8826 - accuracy: 0.9066 - val_loss: 0.3822 - val_f1_score: 0.7739 - val_accuracy: 0.8863\n",
            "Epoch 9/10\n",
            "316/316 [==============================] - 5s 15ms/step - loss: 0.2455 - f1_score: 0.8814 - accuracy: 0.9063 - val_loss: 0.3910 - val_f1_score: 0.7712 - val_accuracy: 0.8872\n",
            "Epoch 10/10\n",
            "316/316 [==============================] - 5s 14ms/step - loss: 0.2269 - f1_score: 0.8936 - accuracy: 0.9160 - val_loss: 0.4018 - val_f1_score: 0.7684 - val_accuracy: 0.8837\n"
          ],
          "name": "stdout"
        },
        {
          "output_type": "execute_result",
          "data": {
            "text/plain": [
              "<tensorflow.python.keras.callbacks.History at 0x7ff3b00f2550>"
            ]
          },
          "metadata": {
            "tags": []
          },
          "execution_count": 83
        }
      ]
    },
    {
      "cell_type": "markdown",
      "metadata": {
        "id": "uSQN_7CHsLRD"
      },
      "source": [
        "Evaluate model"
      ]
    },
    {
      "cell_type": "code",
      "metadata": {
        "colab": {
          "base_uri": "https://localhost:8080/"
        },
        "id": "g3dOQiabJ8oJ",
        "outputId": "7cd33c57-62f2-4268-8478-c0c15de4fa25"
      },
      "source": [
        "# Evaluate\n",
        "hm = model.evaluate(test_seq, test_labels, verbose=0, return_dict=True)\n",
        "print(hm)\n",
        "#print('Test accuracy:', hm['accuracy'])\n",
        "\n",
        "TP=0\n",
        "TN=0\n",
        "FP=0\n",
        "FN=0\n",
        "total=0\n",
        "\n",
        "predictions = (model.predict(test_seq) > 0.5).astype(\"int32\")\n",
        "for i in range(len(test_seq)):\n",
        "  predicted_class = predictions[i][0]\n",
        "  actual_class = test_labels[i][0]\n",
        "\n",
        "  if actual_class == 1:\n",
        "    if predicted_class == 1:\n",
        "      TP += 1\n",
        "    else:\n",
        "      FN += 1\n",
        "  else:\n",
        "    if predicted_class == 0:\n",
        "      TN += 1\n",
        "    else:\n",
        "      FP += 1\n",
        "  \n",
        "  total += 1\n",
        "\n",
        "precision = TP / (TP + FP)\n",
        "recall = TP / (TP + FN)\n",
        "f1 = 2 * precision * recall / (precision + recall)\n",
        "\n",
        "print(precision)\n",
        "print(recall)\n",
        "print(f1)\n",
        "print(str((TP + TN) / total))\n",
        "\n",
        "print(TP)\n",
        "print(FP)\n",
        "print(FN)\n",
        "print(TN)\n"
      ],
      "execution_count": 84,
      "outputs": [
        {
          "output_type": "stream",
          "text": [
            "{'loss': 0.4148491322994232, 'f1_score': array([0.7529163], dtype=float32), 'accuracy': 0.8753677606582642}\n",
            "0.7615302109402932\n",
            "0.7444949318420133\n",
            "0.7529162248144221\n",
            "0.875367745386467\n",
            "2130\n",
            "667\n",
            "731\n",
            "7689\n"
          ],
          "name": "stdout"
        }
      ]
    },
    {
      "cell_type": "code",
      "metadata": {
        "colab": {
          "base_uri": "https://localhost:8080/"
        },
        "id": "G12dGJNek9r_",
        "outputId": "3b4bf8fb-484c-4b2c-de90-ccaaa694b18a"
      },
      "source": [
        ""
      ],
      "execution_count": 3,
      "outputs": [
        {
          "output_type": "stream",
          "text": [
            "3\n"
          ],
          "name": "stdout"
        }
      ]
    }
  ]
}