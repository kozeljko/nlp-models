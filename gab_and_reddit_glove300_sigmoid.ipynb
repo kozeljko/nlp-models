{
  "nbformat": 4,
  "nbformat_minor": 0,
  "metadata": {
    "colab": {
      "name": "gab_and_reddit_glove300_sigmoid.ipynb",
      "provenance": [],
      "collapsed_sections": [],
      "toc_visible": true,
      "authorship_tag": "ABX9TyNXX729IUNT4p6k4iTwe6tJ",
      "include_colab_link": true
    },
    "kernelspec": {
      "name": "python3",
      "display_name": "Python 3"
    },
    "language_info": {
      "name": "python"
    },
    "accelerator": "GPU"
  },
  "cells": [
    {
      "cell_type": "markdown",
      "metadata": {
        "id": "view-in-github",
        "colab_type": "text"
      },
      "source": [
        "<a href=\"https://colab.research.google.com/github/kozeljko/nlp-models/blob/master/gab_and_reddit_glove300_sigmoid.ipynb\" target=\"_parent\"><img src=\"https://colab.research.google.com/assets/colab-badge.svg\" alt=\"Open In Colab\"/></a>"
      ]
    },
    {
      "cell_type": "markdown",
      "metadata": {
        "id": "4_kErZpcJrjS"
      },
      "source": [
        "Init environment"
      ]
    },
    {
      "cell_type": "code",
      "metadata": {
        "id": "ORjKO2M5mPIR"
      },
      "source": [
        "from __future__ import absolute_import, division, print_function, unicode_literals\n",
        "\n",
        "try:\n",
        "  %tensorflow_version 2.x\n",
        "except Exception:\n",
        "  pass"
      ],
      "execution_count": 1,
      "outputs": []
    },
    {
      "cell_type": "code",
      "metadata": {
        "colab": {
          "base_uri": "https://localhost:8080/",
          "height": 0
        },
        "id": "d2XwduGIJj5J",
        "outputId": "a4261548-7bd1-44cf-9c80-7723838ee092"
      },
      "source": [
        "from google.colab import drive\n",
        "drive.mount('/content/drive')"
      ],
      "execution_count": 2,
      "outputs": [
        {
          "output_type": "stream",
          "text": [
            "Mounted at /content/drive\n"
          ],
          "name": "stdout"
        }
      ]
    },
    {
      "cell_type": "code",
      "metadata": {
        "colab": {
          "base_uri": "https://localhost:8080/",
          "height": 0
        },
        "id": "PuDSSVNhbgN1",
        "outputId": "5bfdb697-bf3a-4a01-fd00-0bd0f05e2536"
      },
      "source": [
        "%tensorflow_version 2.x\n",
        "import tensorflow as tf\n",
        "device_name = tf.test.gpu_device_name()\n",
        "if device_name != '/device:GPU:0':\n",
        "  raise SystemError('GPU device not found')\n",
        "print('Found GPU at: {}'.format(device_name))"
      ],
      "execution_count": 3,
      "outputs": [
        {
          "output_type": "stream",
          "text": [
            "Found GPU at: /device:GPU:0\n"
          ],
          "name": "stdout"
        }
      ]
    },
    {
      "cell_type": "code",
      "metadata": {
        "id": "LQHEJLoILmgY"
      },
      "source": [
        "# How I got Glove6B embeddings\n",
        "#!wget http://nlp.stanford.edu/data/glove.6B.zip\n",
        "#!ls\n",
        "#!unzip glove.6B.zip\n",
        "#!mkdir drive/MyDrive/nlp/models-pre/glove6B\n",
        "#!mv *d.txt drive/MyDrive/nlp/models-pre/glove6B"
      ],
      "execution_count": 4,
      "outputs": []
    },
    {
      "cell_type": "code",
      "metadata": {
        "colab": {
          "base_uri": "https://localhost:8080/",
          "height": 0
        },
        "id": "2TiRSyRsJnqw",
        "outputId": "468b91af-049f-46b0-808f-55a12bb0eca5"
      },
      "source": [
        "!pip install lemmagen3 emoji\n",
        "!pip install --upgrade keras\n",
        "\n",
        "import sys\n",
        "sys.path.append('drive/MyDrive/nlp/nlp-offensive-language/src')\n",
        "\n",
        "\n",
        "from preprocessing import preprocess\n",
        "\n"
      ],
      "execution_count": 5,
      "outputs": [
        {
          "output_type": "stream",
          "text": [
            "Collecting lemmagen3\n",
            "\u001b[?25l  Downloading https://files.pythonhosted.org/packages/4d/80/b0d1f328a512fb54aa120f491f14ebba18add825908b56c3c7da7a1fe542/lemmagen3-3.3.1-cp37-cp37m-manylinux2010_x86_64.whl (12.4MB)\n",
            "\u001b[K     |████████████████████████████████| 12.4MB 223kB/s \n",
            "\u001b[?25hCollecting emoji\n",
            "\u001b[?25l  Downloading https://files.pythonhosted.org/packages/24/fa/b3368f41b95a286f8d300e323449ab4e86b85334c2e0b477e94422b8ed0f/emoji-1.2.0-py3-none-any.whl (131kB)\n",
            "\u001b[K     |████████████████████████████████| 133kB 32.8MB/s \n",
            "\u001b[?25hCollecting pybind11>=2.4\n",
            "\u001b[?25l  Downloading https://files.pythonhosted.org/packages/8d/43/7339dbabbc2793718d59703aace4166f53c29ee1c202f6ff5bf8a26c4d91/pybind11-2.6.2-py2.py3-none-any.whl (191kB)\n",
            "\u001b[K     |████████████████████████████████| 194kB 42.8MB/s \n",
            "\u001b[?25hInstalling collected packages: pybind11, lemmagen3, emoji\n",
            "Successfully installed emoji-1.2.0 lemmagen3-3.3.1 pybind11-2.6.2\n",
            "Requirement already up-to-date: keras in /usr/local/lib/python3.7/dist-packages (2.4.3)\n",
            "Requirement already satisfied, skipping upgrade: scipy>=0.14 in /usr/local/lib/python3.7/dist-packages (from keras) (1.4.1)\n",
            "Requirement already satisfied, skipping upgrade: numpy>=1.9.1 in /usr/local/lib/python3.7/dist-packages (from keras) (1.19.5)\n",
            "Requirement already satisfied, skipping upgrade: h5py in /usr/local/lib/python3.7/dist-packages (from keras) (2.10.0)\n",
            "Requirement already satisfied, skipping upgrade: pyyaml in /usr/local/lib/python3.7/dist-packages (from keras) (3.13)\n",
            "Requirement already satisfied, skipping upgrade: six in /usr/local/lib/python3.7/dist-packages (from h5py->keras) (1.15.0)\n",
            "[nltk_data] Downloading package punkt to /root/nltk_data...\n",
            "[nltk_data]   Unzipping tokenizers/punkt.zip.\n"
          ],
          "name": "stdout"
        }
      ]
    },
    {
      "cell_type": "code",
      "metadata": {
        "id": "syFNIdyDQFjC"
      },
      "source": [
        "DATASETS_DIR = \"drive/MyDrive/nlp/nlp-offensive-language/datasets/\"\n",
        "\n",
        "GLOVE_DIR = \"drive/MyDrive/nlp/models-pre/glove6B/\""
      ],
      "execution_count": 6,
      "outputs": []
    },
    {
      "cell_type": "code",
      "metadata": {
        "colab": {
          "base_uri": "https://localhost:8080/"
        },
        "id": "xvmLp47rQPB1",
        "outputId": "d7b55f04-187b-4e80-f846-14cdbedd2e98"
      },
      "source": [
        "import os, csv\n",
        "import numpy as np\n",
        "import pandas as pd\n",
        "from preprocessing import *\n",
        "\n",
        "#filename = \"english/embeddia/dataset.csv\"\n",
        "filename = \"english/gab_and_reddit/dataset.csv\"\n",
        "csv_read = csv.reader(open(os.path.join(DATASETS_DIR, filename), encoding=\"utf8\"), delimiter=\",\")\n",
        "\n",
        "texts = []\n",
        "labels = []\n",
        "for line in csv_read:\n",
        "  if line[0] == \"id\":\n",
        "    continue\n",
        "\n",
        "  text = line[1]\n",
        "  text = preprocess(text, [PP_REMOVE_USERNAME_HANDLES, PP_REMOVE_URLS, PP_REMOVE_SPECIAL_CHARACTERS, PP_REMOVE_BASE_PUNCTUATIONS])\n",
        "  text = \" \".join(text)\n",
        "\n",
        "  texts.append(text)\n",
        "  if line[2] == \"OFF\":\n",
        "    labels.append([1])\n",
        "  else:\n",
        "    labels.append([0])\n",
        "\n",
        "print(\"Loaded dataset\")\n",
        "print(str(len(texts)) + \" texts\")\n",
        "print(\"First: \" + texts[0])\n",
        "print(labels[0])"
      ],
      "execution_count": 38,
      "outputs": [
        {
          "output_type": "stream",
          "text": [
            "Loaded dataset\n",
            "56085 texts\n",
            "First: i joined gab to remind myself how retarded jew haters are You would not be typing on your abacus without them you retard\n",
            "[1]\n"
          ],
          "name": "stdout"
        }
      ]
    },
    {
      "cell_type": "code",
      "metadata": {
        "colab": {
          "base_uri": "https://localhost:8080/"
        },
        "id": "e97MOQT9N6YS",
        "outputId": "7bcac0f7-0d3c-4354-872a-e19b28911455"
      },
      "source": [
        "import os\n",
        "import numpy as np\n",
        "from keras.layers import Embedding\n",
        "from keras.preprocessing.text import Tokenizer\n",
        "from keras.preprocessing.sequence import pad_sequences\n",
        "\n",
        "# Prepare tokenizer given loaded texts\n",
        "tokenizer = Tokenizer()\n",
        "tokenizer.fit_on_texts(texts)\n",
        "seq = tokenizer.texts_to_sequences(texts)\n",
        "\n",
        "vocab_size = len(tokenizer.word_index)+1\n",
        "\n",
        "# Load Glove model\n",
        "EMBEDDING_DIM = 300\n",
        "MAX_SEQUENCE_LENGTH = 100\n",
        "pad_seq = pad_sequences(seq,maxlen=MAX_SEQUENCE_LENGTH)\n",
        "embeddings_index = {}\n",
        "f = open(os.path.join(GLOVE_DIR, 'glove.6B.300d.txt'))\n",
        "for line in f:\n",
        "    values = line.split()\n",
        "    word = values[0]\n",
        "    coefs = np.asarray(values[1:], dtype='float32')\n",
        "    embeddings_index[word] = coefs\n",
        "f.close()\n",
        "\n",
        "print('Found %s word vectors.' % len(embeddings_index))\n",
        "\n",
        "# Create embedding matrix\n",
        "\n",
        "word_index = tokenizer.word_index\n",
        "embedding_matrix = np.zeros((len(word_index) + 1, EMBEDDING_DIM))\n",
        "for word, i in word_index.items():\n",
        "    embedding_vector = embeddings_index.get(word)\n",
        "    if embedding_vector is not None:\n",
        "        # words not found in embedding index will be all-zeros.\n",
        "        embedding_matrix[i] = embedding_vector\n",
        "\n",
        "# Create embedding layer\n",
        "\n",
        "embedding_layer = Embedding(len(word_index) + 1,\n",
        "                            EMBEDDING_DIM,\n",
        "                            weights=[embedding_matrix],\n",
        "                            input_length=MAX_SEQUENCE_LENGTH,\n",
        "                            trainable=False)\n",
        "\n",
        "# Created embedding layer"
      ],
      "execution_count": 39,
      "outputs": [
        {
          "output_type": "stream",
          "text": [
            "Found 400000 word vectors.\n"
          ],
          "name": "stdout"
        }
      ]
    },
    {
      "cell_type": "markdown",
      "metadata": {
        "id": "48XboxqdsGvI"
      },
      "source": [
        "Train model"
      ]
    },
    {
      "cell_type": "code",
      "metadata": {
        "colab": {
          "base_uri": "https://localhost:8080/"
        },
        "id": "eTJc27RdW-1T",
        "outputId": "c02ed078-cc8f-4eee-8f84-615d592f750f"
      },
      "source": [
        "from keras.models import Sequential\n",
        "from keras.layers import LSTM,Dense,Dropout,Embedding,Bidirectional\n",
        "from keras.metrics import Precision, Recall\n",
        "\n",
        "\n",
        "train_index = int(len(pad_seq) * 0.8)\n",
        "\n",
        "train_seq = np.array(pad_seq[:train_index])\n",
        "train_labels = np.array(labels[:train_index])\n",
        "\n",
        "test_seq = np.array(pad_seq[train_index:])\n",
        "test_labels = np.array(labels[train_index:])\n",
        "\n",
        "model = Sequential()\n",
        "model.add(embedding_layer)\n",
        "model.add(Dense(150,activation = 'relu'))\n",
        "model.add(LSTM(128))\n",
        "model.add(Dense(50,activation = 'relu'))\n",
        "model.add(Dropout(0.5))\n",
        "model.add(Dense(1,activation = 'sigmoid'))\n",
        "model.compile(optimizer='adam',loss='binary_crossentropy',metrics = ['accuracy'])\n",
        "\n",
        "model.fit(train_seq, train_labels, epochs=10, validation_split=0.3, batch_size=128)"
      ],
      "execution_count": 75,
      "outputs": [
        {
          "output_type": "stream",
          "text": [
            "Epoch 1/10\n",
            "246/246 [==============================] - 7s 22ms/step - loss: 0.4610 - accuracy: 0.7898 - val_loss: 0.3489 - val_accuracy: 0.8783\n",
            "Epoch 2/10\n",
            "246/246 [==============================] - 5s 19ms/step - loss: 0.3071 - accuracy: 0.8916 - val_loss: 0.3547 - val_accuracy: 0.8729\n",
            "Epoch 3/10\n",
            "246/246 [==============================] - 5s 19ms/step - loss: 0.2874 - accuracy: 0.8984 - val_loss: 0.3405 - val_accuracy: 0.8822\n",
            "Epoch 4/10\n",
            "246/246 [==============================] - 5s 19ms/step - loss: 0.2716 - accuracy: 0.9025 - val_loss: 0.3363 - val_accuracy: 0.8772\n",
            "Epoch 5/10\n",
            "246/246 [==============================] - 5s 19ms/step - loss: 0.2612 - accuracy: 0.9050 - val_loss: 0.3464 - val_accuracy: 0.8782\n",
            "Epoch 6/10\n",
            "246/246 [==============================] - 5s 19ms/step - loss: 0.2496 - accuracy: 0.9077 - val_loss: 0.3342 - val_accuracy: 0.8903\n",
            "Epoch 7/10\n",
            "246/246 [==============================] - 5s 20ms/step - loss: 0.2399 - accuracy: 0.9092 - val_loss: 0.3465 - val_accuracy: 0.8853\n",
            "Epoch 8/10\n",
            "246/246 [==============================] - 5s 20ms/step - loss: 0.2283 - accuracy: 0.9117 - val_loss: 0.3579 - val_accuracy: 0.8802\n",
            "Epoch 9/10\n",
            "246/246 [==============================] - 5s 19ms/step - loss: 0.2145 - accuracy: 0.9144 - val_loss: 0.3663 - val_accuracy: 0.8740\n",
            "Epoch 10/10\n",
            "246/246 [==============================] - 5s 19ms/step - loss: 0.2048 - accuracy: 0.9190 - val_loss: 0.3824 - val_accuracy: 0.8802\n"
          ],
          "name": "stdout"
        },
        {
          "output_type": "execute_result",
          "data": {
            "text/plain": [
              "<tensorflow.python.keras.callbacks.History at 0x7fc6bc054cd0>"
            ]
          },
          "metadata": {
            "tags": []
          },
          "execution_count": 75
        }
      ]
    },
    {
      "cell_type": "markdown",
      "metadata": {
        "id": "uSQN_7CHsLRD"
      },
      "source": [
        "Evaluate model"
      ]
    },
    {
      "cell_type": "code",
      "metadata": {
        "colab": {
          "base_uri": "https://localhost:8080/"
        },
        "id": "g3dOQiabJ8oJ",
        "outputId": "bad0febd-f396-444a-ea8c-62a9d0358794"
      },
      "source": [
        "# Evaluate\n",
        "hm = model.evaluate(test_seq, test_labels, verbose=0, return_dict=True)\n",
        "print(hm)\n",
        "print('Test accuracy:', hm['accuracy'])"
      ],
      "execution_count": 76,
      "outputs": [
        {
          "output_type": "stream",
          "text": [
            "{'loss': 0.42031413316726685, 'accuracy': 0.866631031036377}\n",
            "Test accuracy: 0.866631031036377\n"
          ],
          "name": "stdout"
        }
      ]
    }
  ]
}