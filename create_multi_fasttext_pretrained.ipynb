{
  "nbformat": 4,
  "nbformat_minor": 0,
  "metadata": {
    "accelerator": "GPU",
    "colab": {
      "name": "create_multi_fasttext_pretrained.ipynb",
      "provenance": [],
      "collapsed_sections": [],
      "toc_visible": true,
      "include_colab_link": true
    },
    "kernelspec": {
      "display_name": "Python 3",
      "name": "python3"
    },
    "language_info": {
      "name": "python"
    }
  },
  "cells": [
    {
      "cell_type": "markdown",
      "metadata": {
        "id": "view-in-github",
        "colab_type": "text"
      },
      "source": [
        "<a href=\"https://colab.research.google.com/github/kozeljko/nlp-models/blob/master/create_multi_fasttext_pretrained.ipynb\" target=\"_parent\"><img src=\"https://colab.research.google.com/assets/colab-badge.svg\" alt=\"Open In Colab\"/></a>"
      ]
    },
    {
      "cell_type": "markdown",
      "metadata": {
        "id": "MCxQ5V7PxfcF"
      },
      "source": [
        "Trained fasttext model using wiki news word embeddings\n"
      ]
    },
    {
      "cell_type": "markdown",
      "metadata": {
        "id": "4_kErZpcJrjS"
      },
      "source": [
        "Init environment"
      ]
    },
    {
      "cell_type": "code",
      "metadata": {
        "id": "ORjKO2M5mPIR"
      },
      "source": [
        "%tensorflow_version 2.x\n",
        "import tensorflow as tf\n",
        "device_name = tf.test.gpu_device_name()\n",
        "if device_name != '/device:GPU:0':\n",
        "  raise SystemError('GPU device not found')\n",
        "print('Found GPU at: {}'.format(device_name))"
      ],
      "execution_count": null,
      "outputs": []
    },
    {
      "cell_type": "code",
      "metadata": {
        "id": "d2XwduGIJj5J"
      },
      "source": [
        "from google.colab import drive\n",
        "drive.mount('/content/drive', force_remount=True)"
      ],
      "execution_count": null,
      "outputs": []
    },
    {
      "cell_type": "markdown",
      "metadata": {
        "id": "fPq6f56ckAXE"
      },
      "source": [
        "Install FastText"
      ]
    },
    {
      "cell_type": "code",
      "metadata": {
        "id": "5ye1ZHX-kACU"
      },
      "source": [
        "!wget https://github.com/facebookresearch/fastText/archive/v0.9.2.zip\n",
        "!unzip v0.9.2.zip\n",
        "!cd fastText-0.9.2 && make && pip install ."
      ],
      "execution_count": null,
      "outputs": []
    },
    {
      "cell_type": "markdown",
      "metadata": {
        "id": "LU0VciSu7RHc"
      },
      "source": [
        "Preprocessing init"
      ]
    },
    {
      "cell_type": "code",
      "metadata": {
        "id": "2TiRSyRsJnqw"
      },
      "source": [
        "!pip install lemmagen3 emoji\n",
        "!pip install --upgrade keras\n",
        "!pip install tensorflow-addons\n",
        "!pip install scikit-learn\n",
        "\n",
        "import sys\n",
        "sys.path.insert(1, 'drive/MyDrive/nlp/nlp-offensive-language/src')\n",
        "\n",
        "from preprocessing import *"
      ],
      "execution_count": null,
      "outputs": []
    },
    {
      "cell_type": "code",
      "metadata": {
        "id": "syFNIdyDQFjC"
      },
      "source": [
        "DATASETS_DIR = \"drive/MyDrive/nlp/nlp-offensive-language/datasets/\"\n",
        "FASTTEXT_DIR = \"drive/MyDrive/nlp/embeddings/fasttext/\"\n",
        "\n",
        "MODELS_DIR = \"drive/MyDrive/nlp/models/\"\n",
        "MODEL_NAME = \"frenk_lgbt_multi_fasttext_wiki_sl\"\n",
        "\n",
        "#LANGUAGE = \"english\"\n",
        "#DATASET = \"english/fox_news/dataset.csv\"\n",
        "#DATASET = \"english/gab_and_reddit/dataset.csv\"\n",
        "#DATASET = \"english/deep_offense/dataset.csv\"\n",
        "#DATASET = \"english/trac_2/dataset.csv\"\n",
        "#DATASET = \"english/wiki_detox/dataset_aggression.csv\"\n",
        "#DATASET = \"english/wiki_detox/dataset_attack.csv\"\n",
        "#DATASET = \"english/wiki_detox/dataset_toxicity.csv\"\n",
        "#DATASET = \"english/frenk_lgbt/dataset.csv\"\n",
        "#DATASET = \"english/frenk_migrants/dataset.csv\"\n",
        "#DATASET = \"english/combined_preprocessed/combined_dataset_train.csv\"\n",
        "\n",
        "LANGUAGE = \"slovene\"\n",
        "#DATASET = \"slovenian/frenk_migrants/dataset.csv\"\n",
        "DATASET = \"slovenian/frenk_lgbt/dataset.csv\""
      ],
      "execution_count": 15,
      "outputs": []
    },
    {
      "cell_type": "markdown",
      "metadata": {
        "id": "KLmfAHlH7WFp"
      },
      "source": [
        "Preprocess texts"
      ]
    },
    {
      "cell_type": "code",
      "metadata": {
        "id": "xvmLp47rQPB1",
        "colab": {
          "base_uri": "https://localhost:8080/"
        },
        "outputId": "21d8fb19-572d-4724-c672-9e7b21f32131"
      },
      "source": [
        "import os, csv\n",
        "import numpy as np\n",
        "import pandas as pd\n",
        "from preprocessing import *\n",
        "\n",
        "csv_read = csv.reader(open(os.path.join(DATASETS_DIR, DATASET), encoding=\"utf8\"), delimiter=\",\")\n",
        "\n",
        "content = []\n",
        "for line in csv_read:\n",
        "  if line[0] == \"id\":\n",
        "    continue\n",
        "\n",
        "  text = line[1]\n",
        "  text = preprocess(text, [PP_LOWERCASE, PP_REMOVE_USERNAME_HANDLES, PP_REMOVE_URLS, PP_REMOVE_SPECIAL_CHARACTERS, PP_REMOVE_NUMBERS, PP_REMOVE_EMOJI], language=LANGUAGE)\n",
        "  text = \" \".join(text)\n",
        "\n",
        "  label = \"__label__\" + line[2]\n",
        "\n",
        "  content.append(label + \" \" + text + \"\\n\")\n",
        "\n",
        "print(\"Loaded dataset\")\n",
        "print(str(len(content)) + \" texts\")\n",
        "print(\"First: \" + content[0])"
      ],
      "execution_count": 16,
      "outputs": [
        {
          "output_type": "stream",
          "text": [
            "Loaded dataset\n",
            "3608 texts\n",
            "First: __label__NOT kako omogoča saj pa oni že lahko sklenejo zvezo\n",
            "\n"
          ],
          "name": "stdout"
        }
      ]
    },
    {
      "cell_type": "markdown",
      "metadata": {
        "id": "dV63UVpAou0G"
      },
      "source": [
        "Save content to files"
      ]
    },
    {
      "cell_type": "code",
      "metadata": {
        "id": "_AHhhqF-ouez"
      },
      "source": [
        "filename_train = \"content.train\"\n",
        "filename_test = \"content.test\"\n",
        "\n",
        "total_count = len(content)\n",
        "train_count = int(0.8 * total_count)\n",
        "\n",
        "train_content = content[0:train_count]\n",
        "test_content = content[train_count:]\n",
        "\n",
        "f = open(filename_train, \"w\")\n",
        "f.writelines(train_content)\n",
        "f.close()\n",
        "\n",
        "f = open(filename_test, \"w\")\n",
        "f.writelines(test_content)\n",
        "f.close()\n"
      ],
      "execution_count": 17,
      "outputs": []
    },
    {
      "cell_type": "markdown",
      "metadata": {
        "id": "0z_1qXVqu59b"
      },
      "source": [
        "Build Fasttext model"
      ]
    },
    {
      "cell_type": "code",
      "metadata": {
        "id": "RKgKpVKRpXjb"
      },
      "source": [
        "import fasttext\n",
        "\n",
        "pretrained_vectors = FASTTEXT_DIR + \"wiki.sl.vec\"\n",
        "\n",
        "model = fasttext.train_supervised(input=\"content.train\", dim=300, epoch=15, lr=0.9, wordNgrams=2, pretrainedVectors = pretrained_vectors)\n",
        "model.save_model(os.path.join(MODELS_DIR, MODEL_NAME))"
      ],
      "execution_count": 18,
      "outputs": []
    },
    {
      "cell_type": "markdown",
      "metadata": {
        "id": "V87mlxoXtguQ"
      },
      "source": [
        "Evaluate fasttext\n"
      ]
    },
    {
      "cell_type": "code",
      "metadata": {
        "id": "xL5x1agEtFI5"
      },
      "source": [
        "from sklearn.metrics import classification_report\n",
        "\n",
        "predicts = []\n",
        "count = 0\n",
        "for i in test_content:\n",
        "  count = count + 1\n",
        "  x = i[:len(i)-2] # remove \\n\n",
        "  predicts.append(model.predict(x))\n",
        "\n",
        "targets = []\n",
        "predictions = []\n",
        "for i in range(count):\n",
        "  test_sample = test_content[i]\n",
        "  targets.append(test_sample.split(\" \")[0])\n",
        "  predictions.append(predicts[i][0][0])\n",
        "\n",
        "print(f\"Classification report: \\n{classification_report(targets, predictions, digits=3)}\")"
      ],
      "execution_count": null,
      "outputs": []
    }
  ]
}