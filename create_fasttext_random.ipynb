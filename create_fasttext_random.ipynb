{
  "nbformat": 4,
  "nbformat_minor": 0,
  "metadata": {
    "accelerator": "GPU",
    "colab": {
      "name": "create_fasttext_random.ipynb",
      "provenance": [],
      "collapsed_sections": [],
      "toc_visible": true,
      "include_colab_link": true
    },
    "kernelspec": {
      "display_name": "Python 3",
      "name": "python3"
    },
    "language_info": {
      "name": "python"
    }
  },
  "cells": [
    {
      "cell_type": "markdown",
      "metadata": {
        "id": "view-in-github",
        "colab_type": "text"
      },
      "source": [
        "<a href=\"https://colab.research.google.com/github/kozeljko/nlp-models/blob/master/create_fasttext_random.ipynb\" target=\"_parent\"><img src=\"https://colab.research.google.com/assets/colab-badge.svg\" alt=\"Open In Colab\"/></a>"
      ]
    },
    {
      "cell_type": "markdown",
      "metadata": {
        "id": "MCxQ5V7PxfcF"
      },
      "source": [
        "Trained fasttext model using wiki news word embeddings\n"
      ]
    },
    {
      "cell_type": "markdown",
      "metadata": {
        "id": "4_kErZpcJrjS"
      },
      "source": [
        "Init environment"
      ]
    },
    {
      "cell_type": "code",
      "metadata": {
        "id": "ORjKO2M5mPIR"
      },
      "source": [
        "%tensorflow_version 2.x\n",
        "import tensorflow as tf\n",
        "device_name = tf.test.gpu_device_name()\n",
        "if device_name != '/device:GPU:0':\n",
        "  raise SystemError('GPU device not found')\n",
        "print('Found GPU at: {}'.format(device_name))"
      ],
      "execution_count": null,
      "outputs": []
    },
    {
      "cell_type": "code",
      "metadata": {
        "id": "d2XwduGIJj5J"
      },
      "source": [
        "from google.colab import drive\n",
        "drive.mount('/content/drive', force_remount=True)ž"
      ],
      "execution_count": null,
      "outputs": []
    },
    {
      "cell_type": "markdown",
      "metadata": {
        "id": "fPq6f56ckAXE"
      },
      "source": [
        "Install FastText"
      ]
    },
    {
      "cell_type": "code",
      "metadata": {
        "id": "5ye1ZHX-kACU"
      },
      "source": [
        "!wget https://github.com/facebookresearch/fastText/archive/v0.9.2.zip\n",
        "!unzip v0.9.2.zip\n",
        "!cd fastText-0.9.2 && make && pip install ."
      ],
      "execution_count": null,
      "outputs": []
    },
    {
      "cell_type": "markdown",
      "metadata": {
        "id": "LU0VciSu7RHc"
      },
      "source": [
        "Preprocessing init"
      ]
    },
    {
      "cell_type": "code",
      "metadata": {
        "colab": {
          "base_uri": "https://localhost:8080/"
        },
        "id": "2TiRSyRsJnqw",
        "outputId": "63f1a5e0-08c2-4fa5-ad2b-3b480988371c"
      },
      "source": [
        "!pip install lemmagen3 emoji\n",
        "!pip install --upgrade keras\n",
        "!pip install tensorflow-addons\n",
        "\n",
        "import sys\n",
        "sys.path.insert(1, 'drive/MyDrive/nlp/nlp-offensive-language/src')\n",
        "\n",
        "from preprocessing import *"
      ],
      "execution_count": 2,
      "outputs": [
        {
          "output_type": "stream",
          "text": [
            "Requirement already satisfied: lemmagen3 in /usr/local/lib/python3.7/dist-packages (3.3.1)\n",
            "Requirement already satisfied: emoji in /usr/local/lib/python3.7/dist-packages (1.2.0)\n",
            "Requirement already satisfied: pybind11>=2.4 in /usr/local/lib/python3.7/dist-packages (from lemmagen3) (2.6.2)\n",
            "Requirement already up-to-date: keras in /usr/local/lib/python3.7/dist-packages (2.4.3)\n",
            "Requirement already satisfied, skipping upgrade: numpy>=1.9.1 in /usr/local/lib/python3.7/dist-packages (from keras) (1.19.5)\n",
            "Requirement already satisfied, skipping upgrade: scipy>=0.14 in /usr/local/lib/python3.7/dist-packages (from keras) (1.4.1)\n",
            "Requirement already satisfied, skipping upgrade: h5py in /usr/local/lib/python3.7/dist-packages (from keras) (2.10.0)\n",
            "Requirement already satisfied, skipping upgrade: pyyaml in /usr/local/lib/python3.7/dist-packages (from keras) (3.13)\n",
            "Requirement already satisfied, skipping upgrade: six in /usr/local/lib/python3.7/dist-packages (from h5py->keras) (1.15.0)\n",
            "Requirement already satisfied: tensorflow-addons in /usr/local/lib/python3.7/dist-packages (0.13.0)\n",
            "Requirement already satisfied: typeguard>=2.7 in /usr/local/lib/python3.7/dist-packages (from tensorflow-addons) (2.7.1)\n"
          ],
          "name": "stdout"
        }
      ]
    },
    {
      "cell_type": "code",
      "metadata": {
        "id": "syFNIdyDQFjC"
      },
      "source": [
        "DATASETS_DIR = \"drive/MyDrive/nlp/nlp-offensive-language/datasets/\"\n",
        "FASTTEXT_DIR = \"drive/MyDrive/nlp/embeddings/fasttext/\"\n",
        "\n",
        "MODELS_DIR = \"drive/MyDrive/nlp/models/\"\n",
        "MODEL_NAME = \"frenk_migrants_fasttext_random_en\"\n",
        "\n",
        "#DATASET = \"english/fox_news/dataset.csv\"\n",
        "#DATASET = \"english/gab_and_reddit/dataset.csv\"\n",
        "#DATASET = \"english/deep_offense/dataset.csv\"\n",
        "#DATASET = \"english/trac_2/dataset.csv\"\n",
        "#DATASET = \"english/wiki_detox/dataset_aggression.csv\"\n",
        "#DATASET = \"english/wiki_detox/dataset_attack.csv\"\n",
        "#DATASET = \"english/wiki_detox/dataset_toxicity.csv\"\n",
        "#DATASET = \"english/frenk_lgbt/dataset.csv\"\n",
        "DATASET = \"english/frenk_migrants/dataset.csv\"\n",
        "#DATASET = \"english/combined_preprocessed/combined_dataset_train.csv\""
      ],
      "execution_count": 10,
      "outputs": []
    },
    {
      "cell_type": "markdown",
      "metadata": {
        "id": "KLmfAHlH7WFp"
      },
      "source": [
        "Preprocess texts"
      ]
    },
    {
      "cell_type": "code",
      "metadata": {
        "id": "xvmLp47rQPB1"
      },
      "source": [
        "import os, csv\n",
        "import numpy as np\n",
        "import pandas as pd\n",
        "from preprocessing import *\n",
        "\n",
        "csv_read = csv.reader(open(os.path.join(DATASETS_DIR, DATASET), encoding=\"utf8\"), delimiter=\",\")\n",
        "\n",
        "content = []\n",
        "for line in csv_read:\n",
        "  if line[0] == \"id\":\n",
        "    continue\n",
        "\n",
        "  text = line[1]\n",
        "  text = preprocess(text, [PP_LOWERCASE, PP_REMOVE_USERNAME_HANDLES, PP_REMOVE_URLS, PP_REMOVE_SPECIAL_CHARACTERS, PP_REMOVE_NUMBERS, PP_REMOVE_EMOJI])\n",
        "  text = \" \".join(text)\n",
        "\n",
        "  label = \"\"\n",
        "  if \"OFF\" in line[2]:\n",
        "    label = \"__label__OFF\"\n",
        "  else:\n",
        "    label = \"__label__NOT\"\n",
        "\n",
        "  content.append(label + \" \" + text + \"\\n\")\n",
        "\n",
        "print(\"Loaded dataset\")\n",
        "print(str(len(content)) + \" texts\")\n",
        "print(\"First: \" + content[0])"
      ],
      "execution_count": null,
      "outputs": []
    },
    {
      "cell_type": "markdown",
      "metadata": {
        "id": "dV63UVpAou0G"
      },
      "source": [
        "Save content to files"
      ]
    },
    {
      "cell_type": "code",
      "metadata": {
        "id": "_AHhhqF-ouez"
      },
      "source": [
        "filename_train = \"content.train\"\n",
        "filename_test = \"content.test\"\n",
        "\n",
        "total_count = len(content)\n",
        "train_count = int(0.8 * total_count)\n",
        "\n",
        "train_content = content[0:train_count]\n",
        "test_content = content[train_count:]\n",
        "\n",
        "f = open(filename_train, \"w\")\n",
        "f.writelines(train_content)\n",
        "f.close()\n",
        "\n",
        "f = open(filename_test, \"w\")\n",
        "f.writelines(test_content)\n",
        "f.close()\n"
      ],
      "execution_count": 12,
      "outputs": []
    },
    {
      "cell_type": "markdown",
      "metadata": {
        "id": "0z_1qXVqu59b"
      },
      "source": [
        "Build Fasttext model"
      ]
    },
    {
      "cell_type": "code",
      "metadata": {
        "id": "RKgKpVKRpXjb"
      },
      "source": [
        "import fasttext\n",
        "\n",
        "model = fasttext.train_supervised(input=\"content.train\", dim=300, epoch=15, lr=0.9, wordNgrams=2)\n",
        "model.save_model(os.path.join(MODELS_DIR, MODEL_NAME))"
      ],
      "execution_count": 13,
      "outputs": []
    },
    {
      "cell_type": "markdown",
      "metadata": {
        "id": "V87mlxoXtguQ"
      },
      "source": [
        "Evaluate fasttext\n"
      ]
    },
    {
      "cell_type": "code",
      "metadata": {
        "id": "xL5x1agEtFI5"
      },
      "source": [
        "predicts = []\n",
        "count = 0\n",
        "for i in test_content:\n",
        "  count = count + 1\n",
        "  x = i[:len(i)-2] # remove \\n\n",
        "  predicts.append(model.predict(x))\n",
        "\n",
        "total = len(test_content)\n",
        "TP = 0\n",
        "TN = 0\n",
        "FP = 0\n",
        "FN = 0\n",
        "\n",
        "count = 0\n",
        "for i in range(total):\n",
        "  test_sample = test_content[i]\n",
        "  prediction = predicts[i]\n",
        "\n",
        "  if test_sample.startswith(\"__label__OFF\"):\n",
        "    if prediction[0][0] == \"__label__OFF\":\n",
        "      TP += 1\n",
        "    else:\n",
        "      FN += 1\n",
        "  else:\n",
        "    if prediction[0][0] == \"__label__OFF\":\n",
        "      FP += 1\n",
        "    else:\n",
        "      TN += 1\n",
        "\n",
        "precision = TP / ((TP + FP))\n",
        "recall = TP / ((TP + FN))\n",
        "f1 = 2 * precision * recall / (precision + recall)\n",
        "\n",
        "print(\"Precision: \" + str(precision))\n",
        "print(\"Recall: \" + str(recall))\n",
        "print(\"F1 Score: \" + str(f1))\n",
        "print(\"Accuracy: \" + str(str((TP + TN) / total)))"
      ],
      "execution_count": null,
      "outputs": []
    }
  ]
}