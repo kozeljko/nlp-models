{
  "nbformat": 4,
  "nbformat_minor": 0,
  "metadata": {
    "colab": {
      "name": "align_fasttext_embeddings.ipynb",
      "provenance": [],
      "collapsed_sections": [],
      "toc_visible": true,
      "include_colab_link": true
    },
    "kernelspec": {
      "name": "python3",
      "display_name": "Python 3"
    },
    "language_info": {
      "name": "python"
    },
    "accelerator": "GPU"
  },
  "cells": [
    {
      "cell_type": "markdown",
      "metadata": {
        "id": "view-in-github",
        "colab_type": "text"
      },
      "source": [
        "<a href=\"https://colab.research.google.com/github/kozeljko/nlp-models/blob/master/align_fasttext_embeddings.ipynb\" target=\"_parent\"><img src=\"https://colab.research.google.com/assets/colab-badge.svg\" alt=\"Open In Colab\"/></a>"
      ]
    },
    {
      "cell_type": "markdown",
      "metadata": {
        "id": "4_kErZpcJrjS"
      },
      "source": [
        "Init environment"
      ]
    },
    {
      "cell_type": "code",
      "metadata": {
        "id": "ORjKO2M5mPIR"
      },
      "source": [
        "%tensorflow_version 2.x\n",
        "import tensorflow as tf\n",
        "device_name = tf.test.gpu_device_name()\n",
        "if device_name != '/device:GPU:0':\n",
        "  raise SystemError('GPU device not found')\n",
        "print('Found GPU at: {}'.format(device_name))"
      ],
      "execution_count": null,
      "outputs": []
    },
    {
      "cell_type": "code",
      "metadata": {
        "id": "d2XwduGIJj5J",
        "colab": {
          "base_uri": "https://localhost:8080/"
        },
        "outputId": "0a3bed06-928f-4807-b344-3976f17e8fcf"
      },
      "source": [
        "from google.colab import drive\n",
        "drive.mount('/content/drive', force_remount=True)"
      ],
      "execution_count": 6,
      "outputs": [
        {
          "output_type": "stream",
          "text": [
            "Mounted at /content/drive\n"
          ],
          "name": "stdout"
        }
      ]
    },
    {
      "cell_type": "markdown",
      "metadata": {
        "id": "fPq6f56ckAXE"
      },
      "source": [
        "Install FastText"
      ]
    },
    {
      "cell_type": "code",
      "metadata": {
        "id": "5ye1ZHX-kACU"
      },
      "source": [
        "!wget https://github.com/facebookresearch/fastText/archive/v0.9.2.zip\n",
        "!unzip v0.9.2.zip\n",
        "!cd fastText-0.9.2 && make && pip install ."
      ],
      "execution_count": null,
      "outputs": []
    },
    {
      "cell_type": "code",
      "metadata": {
        "id": "ZwDcS8WnNm5w"
      },
      "source": [
        "!git clone https://github.com/facebookresearch/MUSE.git\n",
        "\n",
        "!cd MUSE/data && chmod u+x get_evaluation.sh && ./get_evaluation.sh"
      ],
      "execution_count": null,
      "outputs": []
    },
    {
      "cell_type": "markdown",
      "metadata": {
        "id": "E8hXSmWvck_B"
      },
      "source": [
        "Align embeddings. "
      ]
    },
    {
      "cell_type": "code",
      "metadata": {
        "id": "StiU051BP-sI"
      },
      "source": [
        "!python MUSE/unsupervised.py --src_lang en --tgt_lang sl --src_emb drive/MyDrive/nlp/embeddings/fasttext/trained_en.vec --tgt_emb drive/MyDrive/nlp/embeddings/fasttext/trained_sl.vec --n_refinement 5"
      ],
      "execution_count": null,
      "outputs": []
    }
  ]
}