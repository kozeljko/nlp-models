{
  "nbformat": 4,
  "nbformat_minor": 0,
  "metadata": {
    "colab": {
      "name": "create_lstm_random_model_en",
      "provenance": [],
      "collapsed_sections": [],
      "toc_visible": true,
      "include_colab_link": true
    },
    "kernelspec": {
      "name": "python3",
      "display_name": "Python 3"
    },
    "language_info": {
      "name": "python"
    },
    "accelerator": "GPU"
  },
  "cells": [
    {
      "cell_type": "markdown",
      "metadata": {
        "id": "view-in-github",
        "colab_type": "text"
      },
      "source": [
        "<a href=\"https://colab.research.google.com/github/kozeljko/nlp-models/blob/master/create_lstm_random_model_en.ipynb\" target=\"_parent\"><img src=\"https://colab.research.google.com/assets/colab-badge.svg\" alt=\"Open In Colab\"/></a>"
      ]
    },
    {
      "cell_type": "markdown",
      "metadata": {
        "id": "apjtX_WKbjiG"
      },
      "source": [
        "Notebook for building LSTM model using Glove word embeddings."
      ]
    },
    {
      "cell_type": "markdown",
      "metadata": {
        "id": "4_kErZpcJrjS"
      },
      "source": [
        "Init environment"
      ]
    },
    {
      "cell_type": "code",
      "metadata": {
        "id": "ORjKO2M5mPIR"
      },
      "source": [
        "from __future__ import absolute_import, division, print_function, unicode_literals\n",
        "import tensorflow as tf\n",
        "\n",
        "%tensorflow_version 2.x\n",
        "device_name = tf.test.gpu_device_name()\n",
        "if device_name != '/device:GPU:0':\n",
        "  raise SystemError('GPU device not found')\n",
        "print('Found GPU at: {}'.format(device_name))"
      ],
      "execution_count": null,
      "outputs": []
    },
    {
      "cell_type": "code",
      "metadata": {
        "id": "d2XwduGIJj5J"
      },
      "source": [
        "from google.colab import drive\n",
        "drive.mount('/content/drive')"
      ],
      "execution_count": null,
      "outputs": []
    },
    {
      "cell_type": "code",
      "metadata": {
        "id": "LQHEJLoILmgY"
      },
      "source": [
        "# How we got Glove6B embeddings\n",
        "!wget http://nlp.stanford.edu/data/glove.6B.zip\n",
        "!ls\n",
        "!unzip glove.6B.zip\n",
        "!mkdir drive/MyDrive/nlp/embeddings/glove6B\n",
        "!mv *d.txt drive/MyDrive/nlp/embeddings/glove6B"
      ],
      "execution_count": 6,
      "outputs": []
    },
    {
      "cell_type": "code",
      "metadata": {
        "id": "syFNIdyDQFjC"
      },
      "source": [
        "DATASETS_DIR = \"drive/MyDrive/nlp/nlp-offensive-language/datasets/\"\n",
        "GLOVE_DIR = \"drive/MyDrive/nlp/embeddings/glove6B/\"\n",
        "MODELS_DIR = \"drive/MyDrive/nlp/models/\"\n",
        "MODEL_NAME = \"combined_lstm_random_en\"\n",
        "\n",
        "#DATASET = \"english/fox_news/dataset.csv\"\n",
        "#DATASET = \"english/gab_and_reddit/dataset.csv\"\n",
        "#DATASET = \"english/deep_offense/dataset.csv\"\n",
        "#DATASET = \"english/trac_2/dataset.csv\"\n",
        "#DATASET = \"english/wiki_detox/dataset_aggression.csv\"\n",
        "#DATASET = \"english/wiki_detox/dataset_attack.csv\"\n",
        "#DATASET = \"english/wiki_detox/dataset_toxicity.csv\"\n",
        "#DATASET = \"english/frenk_lgbt/dataset.csv\"\n",
        "#DATASET = \"english/frenk_migrants/dataset.csv\"\n",
        "DATASET = \"english/combined_preprocessed/combined_dataset_train.csv\"\n",
        "\n",
        "# Allow sequences max 100 long\n",
        "MAX_SEQUENCE_LENGTH = 100"
      ],
      "execution_count": 83,
      "outputs": []
    },
    {
      "cell_type": "markdown",
      "metadata": {
        "id": "57iIpPjv5Gv4"
      },
      "source": [
        "Initialize preprocessing\n"
      ]
    },
    {
      "cell_type": "code",
      "metadata": {
        "id": "2TiRSyRsJnqw"
      },
      "source": [
        "!pip install lemmagen3 emoji\n",
        "!pip install --upgrade keras\n",
        "!pip install tensorflow-addons\n",
        "\n",
        "import sys\n",
        "sys.path.append('/content/drive/MyDrive/nlp/nlp-offensive-language/src')\n",
        "\n",
        "from preprocessing import preprocess"
      ],
      "execution_count": null,
      "outputs": []
    },
    {
      "cell_type": "markdown",
      "metadata": {
        "id": "MYg1h45o5QbV"
      },
      "source": [
        "Load and preprocess training dataset"
      ]
    },
    {
      "cell_type": "code",
      "metadata": {
        "id": "xvmLp47rQPB1"
      },
      "source": [
        "import os, csv\n",
        "import numpy as np\n",
        "import pandas as pd\n",
        "from preprocessing import *\n",
        "\n",
        "csv_read = csv.reader(open(os.path.join(DATASETS_DIR, DATASET), encoding=\"utf8\"), delimiter=\",\")\n",
        "\n",
        "texts = []\n",
        "labels = []\n",
        "for line in csv_read:\n",
        "  if line[0] == \"id\":\n",
        "    continue\n",
        "\n",
        "  text = line[1]\n",
        "  text = text.replace(\"NEWLINE_TOKEN\", \"\")\n",
        "  text = preprocess(text, [PP_LOWERCASE, PP_REMOVE_USERNAME_HANDLES, PP_REMOVE_URLS, PP_REMOVE_SPECIAL_CHARACTERS, PP_REMOVE_BASE_PUNCTUATIONS, PP_REMOVE_NUMBERS])\n",
        "  if (len(text) > MAX_SEQUENCE_LENGTH):\n",
        "    continue\n",
        "\n",
        "  text = \" \".join(text)\n",
        "\n",
        "  texts.append(text)\n",
        "  if \"OFF\" in line[2]:\n",
        "    labels.append([1])\n",
        "  else:\n",
        "    labels.append([0])\n",
        "\n",
        "print(\"Loaded dataset\")\n",
        "print(str(len(texts)) + \" texts\")\n",
        "print(\"First: \" + texts[0])"
      ],
      "execution_count": null,
      "outputs": []
    },
    {
      "cell_type": "markdown",
      "metadata": {
        "id": "rhY4558M5TMV"
      },
      "source": [
        "Create embedding layer"
      ]
    },
    {
      "cell_type": "code",
      "metadata": {
        "id": "e97MOQT9N6YS"
      },
      "source": [
        "import os\n",
        "import numpy as np\n",
        "from keras.layers import Embedding\n",
        "from keras.preprocessing.text import Tokenizer\n",
        "from keras.preprocessing.sequence import pad_sequences\n",
        "\n",
        "# Prepare tokenizer given loaded texts\n",
        "tokenizer = Tokenizer()\n",
        "tokenizer.fit_on_texts(texts)\n",
        "seq = tokenizer.texts_to_sequences(texts)\n",
        "\n",
        "vocab_size = len(tokenizer.word_index)+1\n",
        "\n",
        "# Load Glove model\n",
        "EMBEDDING_DIM = 100\n",
        "pad_seq = pad_sequences(seq,maxlen=MAX_SEQUENCE_LENGTH)\n",
        "\n",
        "word_index = tokenizer.word_index\n",
        "\n",
        "# Create embedding layer\n",
        "embedding_layer = Embedding(vocab_size, EMBEDDING_DIM, input_length=MAX_SEQUENCE_LENGTH)"
      ],
      "execution_count": 85,
      "outputs": []
    },
    {
      "cell_type": "markdown",
      "metadata": {
        "id": "48XboxqdsGvI"
      },
      "source": [
        "Train model"
      ]
    },
    {
      "cell_type": "code",
      "metadata": {
        "id": "eTJc27RdW-1T"
      },
      "source": [
        "from keras.models import Sequential\n",
        "from keras.layers import LSTM,Dense,Dropout,Embedding,Bidirectional\n",
        "from keras.metrics import Precision, Recall\n",
        "from keras.callbacks import EarlyStopping\n",
        "from tensorflow_addons.metrics import F1Score\n",
        "\n",
        "\n",
        "train_index = int(len(pad_seq) * 0.9)\n",
        "\n",
        "train_seq = np.array(pad_seq[:train_index])\n",
        "train_labels = np.array(labels[:train_index])\n",
        "\n",
        "test_seq = np.array(pad_seq[train_index:])\n",
        "test_labels = np.array(labels[train_index:])\n",
        "\n",
        "es = EarlyStopping(monitor='val_loss', mode='min', verbose=1, patience=2)\n",
        "\n",
        "model = Sequential()\n",
        "model.add(embedding_layer)\n",
        "model.add(Dense(128,activation = 'relu'))\n",
        "model.add(Bidirectional(LSTM(128, return_sequences=True)))\n",
        "model.add(Bidirectional(LSTM(64)))\n",
        "model.add(Dense(32,activation = 'relu'))\n",
        "model.add(Dropout(0.5))\n",
        "model.add(Dense(1,activation = 'sigmoid'))\n",
        "model.compile(optimizer='adam',loss='binary_crossentropy', metrics = [F1Score(num_classes=1, threshold=0.5), 'accuracy'])\n",
        "\n",
        "model.fit(train_seq, train_labels, epochs=10, validation_split=(1/6), batch_size=128, callbacks=[es])\n",
        "\n",
        "# Save model\n",
        "model.save(os.path.join(MODELS_DIR, MODEL_NAME))"
      ],
      "execution_count": null,
      "outputs": []
    },
    {
      "cell_type": "markdown",
      "metadata": {
        "id": "uSQN_7CHsLRD"
      },
      "source": [
        "Evaluate model"
      ]
    },
    {
      "cell_type": "code",
      "metadata": {
        "id": "g3dOQiabJ8oJ"
      },
      "source": [
        "# Evaluate\n",
        "hm = model.evaluate(test_seq, test_labels, verbose=0, return_dict=True)\n",
        "print(hm)\n",
        "#print('Test accuracy:', hm['accuracy'])\n",
        "\n",
        "TP=0\n",
        "TN=0\n",
        "FP=0\n",
        "FN=0\n",
        "total=0\n",
        "\n",
        "predictions = (model.predict(test_seq) > 0.5).astype(\"int32\")\n",
        "for i in range(len(test_seq)):\n",
        "  predicted_class = predictions[i][0]\n",
        "  actual_class = test_labels[i][0]\n",
        "\n",
        "  if actual_class == 1:\n",
        "    if predicted_class == 1:\n",
        "      TP += 1\n",
        "    else:\n",
        "      FN += 1\n",
        "  else:\n",
        "    if predicted_class == 0:\n",
        "      TN += 1\n",
        "    else:\n",
        "      FP += 1\n",
        "  \n",
        "  total += 1\n",
        "\n",
        "precision = TP / (TP + FP)\n",
        "recall = TP / (TP + FN)\n",
        "f1 = 2 * precision * recall / (precision + recall)\n",
        "\n",
        "print(\"Precision: \" + str(precision))\n",
        "print(\"Recall: \" + str(recall))\n",
        "print(\"F1 Score: \" + str(f1))\n",
        "print(\"Accuracy: \" + str(str((TP + TN) / total)))\n"
      ],
      "execution_count": null,
      "outputs": []
    }
  ]
}