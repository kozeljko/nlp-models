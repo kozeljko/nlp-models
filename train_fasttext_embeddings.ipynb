{
  "nbformat": 4,
  "nbformat_minor": 0,
  "metadata": {
    "colab": {
      "name": "train_fasttext_embeddings.ipynb",
      "provenance": [],
      "collapsed_sections": [],
      "toc_visible": true,
      "include_colab_link": true
    },
    "kernelspec": {
      "name": "python3",
      "display_name": "Python 3"
    },
    "language_info": {
      "name": "python"
    },
    "accelerator": "GPU"
  },
  "cells": [
    {
      "cell_type": "markdown",
      "metadata": {
        "id": "view-in-github",
        "colab_type": "text"
      },
      "source": [
        "<a href=\"https://colab.research.google.com/github/kozeljko/nlp-models/blob/master/train_fasttext_embeddings.ipynb\" target=\"_parent\"><img src=\"https://colab.research.google.com/assets/colab-badge.svg\" alt=\"Open In Colab\"/></a>"
      ]
    },
    {
      "cell_type": "markdown",
      "metadata": {
        "id": "4_kErZpcJrjS"
      },
      "source": [
        "Init environment"
      ]
    },
    {
      "cell_type": "code",
      "metadata": {
        "id": "ORjKO2M5mPIR"
      },
      "source": [
        "%tensorflow_version 2.x\n",
        "import tensorflow as tf\n",
        "device_name = tf.test.gpu_device_name()\n",
        "if device_name != '/device:GPU:0':\n",
        "  raise SystemError('GPU device not found')\n",
        "print('Found GPU at: {}'.format(device_name))"
      ],
      "execution_count": null,
      "outputs": []
    },
    {
      "cell_type": "code",
      "metadata": {
        "id": "d2XwduGIJj5J"
      },
      "source": [
        "from google.colab import drive\n",
        "drive.mount('/content/drive', force_remount=True)"
      ],
      "execution_count": null,
      "outputs": []
    },
    {
      "cell_type": "markdown",
      "metadata": {
        "id": "fPq6f56ckAXE"
      },
      "source": [
        "Install FastText"
      ]
    },
    {
      "cell_type": "code",
      "metadata": {
        "id": "5ye1ZHX-kACU"
      },
      "source": [
        "!wget https://github.com/facebookresearch/fastText/archive/v0.9.2.zip\n",
        "!unzip v0.9.2.zip\n",
        "!cd fastText-0.9.2 && make && pip install ."
      ],
      "execution_count": null,
      "outputs": []
    },
    {
      "cell_type": "code",
      "metadata": {
        "id": "syFNIdyDQFjC"
      },
      "source": [
        "DATASETS_DIR = \"drive/MyDrive/nlp/nlp-offensive-language/datasets/\"\n",
        "EMBEDDINGS_DIR = \"drive/MyDrive/nlp/embeddings/fasttext/\"\n",
        "\n",
        "#DATASET = \"cleaned/cleaned_en.txt\"\n",
        "DATASET = \"cleaned/cleaned_sl.txt\"\n",
        "\n",
        "#EMBEDDINGS_NAME = \"trained_en\"\n",
        "EMBEDDINGS_NAME = \"trained_sl\""
      ],
      "execution_count": 13,
      "outputs": []
    },
    {
      "cell_type": "markdown",
      "metadata": {
        "id": "0z_1qXVqu59b"
      },
      "source": [
        "Train Fasttext word embeddings"
      ]
    },
    {
      "cell_type": "code",
      "metadata": {
        "id": "RKgKpVKRpXjb"
      },
      "source": [
        "import fasttext\n",
        "import os\n",
        "\n",
        "model = fasttext.train_unsupervised(os.path.join(DATASETS_DIR, DATASET), dim=300)"
      ],
      "execution_count": 14,
      "outputs": []
    },
    {
      "cell_type": "markdown",
      "metadata": {
        "id": "u8Seut88NAn4"
      },
      "source": [
        "Write to .vec format"
      ]
    },
    {
      "cell_type": "code",
      "metadata": {
        "id": "NRTU0S3HIKDZ"
      },
      "source": [
        "words = model.get_words()\n",
        "print(str(len(words)) + \" \" + str(model.get_dimension()))\n",
        "print(os.path.join(EMBEDDINGS_DIR, EMBEDDINGS_NAME) + \".vec\")\n",
        "write_all = open(os.path.join(EMBEDDINGS_DIR, EMBEDDINGS_NAME) + \".vec\", \"w\", encoding=\"utf8\")\n",
        "write_all.write(str(len(words)) + \" \" + str(model.get_dimension()) + \"\\n\")\n",
        "for w in words:\n",
        "    v = model.get_word_vector(w)\n",
        "    vstr = \"\"\n",
        "    for vi in v:\n",
        "        vstr += \" \" + str(vi)\n",
        "    try:\n",
        "        write_all.write(w + vstr + \"\\n\")\n",
        "    except IOError as e:\n",
        "        if e.errno == errno.EPIPE:\n",
        "            pass"
      ],
      "execution_count": null,
      "outputs": []
    }
  ]
}